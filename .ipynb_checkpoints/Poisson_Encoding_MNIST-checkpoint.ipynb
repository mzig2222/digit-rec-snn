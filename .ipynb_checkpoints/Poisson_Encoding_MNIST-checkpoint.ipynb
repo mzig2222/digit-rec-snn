{
 "cells": [
  {
   "cell_type": "code",
   "execution_count": null,
   "metadata": {},
   "outputs": [],
   "source": [
    "pip install -U scikit-learn"
   ]
  },
  {
   "cell_type": "code",
   "execution_count": null,
   "metadata": {},
   "outputs": [],
   "source": [
    "pip install ipynb"
   ]
  },
  {
   "cell_type": "code",
   "execution_count": null,
   "metadata": {},
   "outputs": [],
   "source": [
    "pip install import_ipynb"
   ]
  },
  {
   "cell_type": "code",
   "execution_count": null,
   "metadata": {},
   "outputs": [],
   "source": [
    "import numpy as np\n",
    "import matplotlib.pyplot as plt\n",
    "\n",
    "plt.style.use('ggplot')"
   ]
  },
  {
   "cell_type": "code",
   "execution_count": null,
   "metadata": {},
   "outputs": [],
   "source": [
    "from sklearn.datasets import load_digits\n",
    " \n",
    "digits = load_digits()\n",
    "import matplotlib.pyplot as plt \n",
    "plt.matshow(digits.images[1]) \n",
    "plt.show()"
   ]
  },
  {
   "cell_type": "code",
   "execution_count": null,
   "metadata": {},
   "outputs": [],
   "source": [
    "#flattening to 1D arrays\n",
    "#partitioning to training set, testing set, validation set\n",
    "from sklearn.model_selection import train_test_split\n",
    "X_train, X_other, y_train, y_other = train_test_split(digits.data, digits.images, test_size=0.2, shuffle=False)\n",
    "X_test, X_val, y_test, y_val = train_test_split(X_other, y_other, test_size=0.5, shuffle=False)\n",
    "print(\"Numbers to train: \" + str(len(X_train)))\n",
    "print(\"Number of train's target: \" + str(len(y_train)))\n",
    "print(\"Numbers to test: \" + str(len(X_test)))\n",
    "print(\"Number of test's target: \" + str(len(y_test)))\n",
    "print(\"Numbers to validate: \" + str(len(X_val)))\n",
    "print(\"Number of validate's target: \" + str(len(y_val)))\n",
    "\n",
    "X_train[0]"
   ]
  },
  {
   "cell_type": "code",
   "execution_count": null,
   "metadata": {},
   "outputs": [],
   "source": [
    "def poissonEncoding(rates):\n",
    "    \"\"\"\n",
    "    Transforms a 2D array of inputs representing an image into spike train representation utilizing Poisson method of\n",
    "    encoding\n",
    "    \n",
    "    Params:\n",
    "        rates: 2D array of inputs (in this case, pixel intensitiies corresponding to our image)\n",
    "    Returns:\n",
    "        n_rates: Normalized set of input pixel values (represents probabilities of a spike occurring at each dT)\n",
    "        bin_spikes: 2D array of binary values representing timesteps in which spikes occur\n",
    "        p_spikes: 2D array representing pixel intensities of spike train representation for plotting/computation purposes\n",
    "        \n",
    "    \"\"\"\n",
    "    dT = 1\n",
    "    \n",
    "    max = np.amax(rates)\n",
    "    n_rates = (rates*dT)/max\n",
    "    \n",
    "    rand = np.random.uniform(0,1, len(rates))\n",
    "    print(rand)\n",
    "    print(n_rates)\n",
    "    bin_spikes = np.zeros(len(rates))\n",
    "    pix_spikes = np.zeros(len(rates))\n",
    "    \n",
    "    for i in range(len(rates)):\n",
    "        if n_rates[i] > rand[i]:\n",
    "            bin_spikes[i] = 1\n",
    "            pix_spikes[i] = max\n",
    "                    \n",
    "    return n_rates, bin_spikes, pix_spikes\n",
    "    "
   ]
  },
  {
   "cell_type": "code",
   "execution_count": null,
   "metadata": {},
   "outputs": [],
   "source": [
    "digits.images[1]"
   ]
  },
  {
   "cell_type": "code",
   "execution_count": null,
   "metadata": {},
   "outputs": [],
   "source": [
    "plt.matshow(np.reshape(X_train[0], (8,8))) \n",
    "n, b, p = poissonEncoding(X_train[0])\n",
    "X_train[0]\n",
    "plt.matshow(p.reshape(8,8))\n",
    "plt.show()\n",
    "\n",
    "len(digits.images)"
   ]
  },
  {
   "cell_type": "markdown",
   "metadata": {},
   "source": [
    " ## GENERAL METHODOLOGY FOR DOING PT 2 I THINK\n",
    " \n",
    " -input = 8x8 image array\n",
    " \n",
    " -initialize weights as 64x10 array of zeros\n",
    " \n",
    "  (weights[52][9] would be the connection between pixel 52 and neuron 9)\n",
    "  \n",
    "  (might also be a good idea to flatten input as 1D array for this reason)\n",
    "  \n",
    " -establish a teacher set (for each # (output neuron), the pixels its most likely going to be correlated to (w_pix_# > 0))\n",
    " \n",
    "  what I'll probably do is I'll run a Poisson encoding on 3 of the same image per number and just use the ones that are most  \n",
    "  likely to get fired off\n",
    " \n",
    " -train the same way\n",
    " \n",
    "  x_out is the binary spike (or the spike intensity who cares)\n",
    "  \n",
    "  y_out is the target intensity\n",
    "  \n",
    "  use the validation set as your teachers?\n",
    "  \n",
    " -use test data to predict\n",
    " \n",
    " if max(output_neuron_rate) = digits.target[i]: prediction correct;\n",
    " else: incorrect"
   ]
  },
  {
   "cell_type": "code",
   "execution_count": null,
   "metadata": {},
   "outputs": [],
   "source": [
    "def train(X, Y, l_rt, init, epochs):\n",
    "    \n",
    "    weights = init\n",
    "    \n",
    "    for i in range(epochs):\n",
    "        print(\"epoch: \", i)\n",
    "        for x in range(len(X)):\n",
    "            true_index = x % 9\n",
    "            print(\"index: \", x, \" true index: \", true_index)\n",
    "            in_neurons = X_train[x]\n",
    "            in_n_rts, in_bins, in_pixs = poissonEncoding(in_neurons)\n",
    "            print(\"input neurons: \", in_neurons)\n",
    "            plt.matshow(in_pixs.reshape(8,8))\n",
    "            \n",
    "            weight_adjs = np.zeros((len(in_neurons),10))\n",
    "            \n",
    "            y_out  = np.zeros((10,len(in_neurons)))\n",
    "            y_out[true_index] = Y[true_index].flatten()\n",
    "            print(\"target output: \", y_out)\n",
    "            \n",
    "            for pix in range(len(in_neurons)):\n",
    "                for digit in range(10):\n",
    "                   weight_adjs[pix][digit] = l_rt*in_bins[pix]*y_out[digit][pix]\n",
    "                \n",
    "            weights = weights + weight_adjs\n",
    "            print(\"new weights: \", weights)\n",
    "            \n",
    "    return weights"
   ]
  },
  {
   "cell_type": "code",
   "execution_count": null,
   "metadata": {},
   "outputs": [],
   "source": [
    "init_weights = np.zeros((len(X_train[0]),10))\n",
    "\n",
    "\n",
    "weights = train(X_train, y_train, 0.0005, init_weights, 3)\n",
    "weights"
   ]
  },
  {
   "cell_type": "raw",
   "metadata": {},
   "source": []
  }
 ],
 "metadata": {
  "kernelspec": {
   "display_name": "Python 3",
   "language": "python",
   "name": "python3"
  },
  "language_info": {
   "codemirror_mode": {
    "name": "ipython",
    "version": 3
   },
   "file_extension": ".py",
   "mimetype": "text/x-python",
   "name": "python",
   "nbconvert_exporter": "python",
   "pygments_lexer": "ipython3",
   "version": "3.6.9"
  }
 },
 "nbformat": 4,
 "nbformat_minor": 2
}
