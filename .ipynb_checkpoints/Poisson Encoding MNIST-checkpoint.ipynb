{
 "cells": [
  {
   "cell_type": "code",
   "execution_count": 1,
   "metadata": {},
   "outputs": [
    {
     "name": "stdout",
     "output_type": "stream",
     "text": [
      "Requirement already up-to-date: scikit-learn in c:\\users\\mzig2\\anaconda3\\lib\\site-packages (0.23.2)\n",
      "Requirement already satisfied, skipping upgrade: scipy>=0.19.1 in c:\\users\\mzig2\\anaconda3\\lib\\site-packages (from scikit-learn) (1.3.1)\n",
      "Requirement already satisfied, skipping upgrade: joblib>=0.11 in c:\\users\\mzig2\\anaconda3\\lib\\site-packages (from scikit-learn) (0.14.0)\n",
      "Requirement already satisfied, skipping upgrade: numpy>=1.13.3 in c:\\users\\mzig2\\anaconda3\\lib\\site-packages (from scikit-learn) (1.17.4)\n",
      "Requirement already satisfied, skipping upgrade: threadpoolctl>=2.0.0 in c:\\users\\mzig2\\anaconda3\\lib\\site-packages (from scikit-learn) (2.1.0)\n",
      "Note: you may need to restart the kernel to use updated packages.\n"
     ]
    }
   ],
   "source": [
    "pip install -U scikit-learn"
   ]
  },
  {
   "cell_type": "code",
   "execution_count": 2,
   "metadata": {},
   "outputs": [
    {
     "name": "stdout",
     "output_type": "stream",
     "text": [
      "Requirement already satisfied: ipynb in c:\\users\\mzig2\\anaconda3\\lib\\site-packages (0.5.1)\n",
      "Note: you may need to restart the kernel to use updated packages.\n"
     ]
    }
   ],
   "source": [
    "pip install ipynb"
   ]
  },
  {
   "cell_type": "code",
   "execution_count": 3,
   "metadata": {},
   "outputs": [
    {
     "name": "stdout",
     "output_type": "stream",
     "text": [
      "Requirement already satisfied: import_ipynb in c:\\users\\mzig2\\anaconda3\\lib\\site-packages (0.1.3)\n",
      "Note: you may need to restart the kernel to use updated packages.\n"
     ]
    }
   ],
   "source": [
    "pip install import_ipynb"
   ]
  },
  {
   "cell_type": "code",
   "execution_count": 4,
   "metadata": {},
   "outputs": [],
   "source": [
    "import numpy as np\n",
    "import matplotlib.pyplot as plt\n",
    "\n",
    "plt.style.use('ggplot')"
   ]
  },
  {
   "cell_type": "code",
   "execution_count": 26,
   "metadata": {},
   "outputs": [
    {
     "data": {
      "image/png": "[encoded data removed]",
      "text/plain": [
       "<Figure size 288x288 with 1 Axes>"
      ]
     },
     "metadata": {},
     "output_type": "display_data"
    }
   ],
   "source": [
    "from sklearn.datasets import load_digits\n",
    " \n",
    "digits = load_digits()\n",
    "import matplotlib.pyplot as plt \n",
    "plt.matshow(digits.images[1]) \n",
    "plt.show()"
   ]
  },
  {
   "cell_type": "code",
   "execution_count": 23,
   "metadata": {},
   "outputs": [
    {
     "name": "stdout",
     "output_type": "stream",
     "text": [
      "Numbers to train: 1437\n",
      "Number of train's target: 1437\n",
      "Numbers to test: 180\n",
      "Number of test's target: 180\n",
      "Numbers to validate: 180\n",
      "Number of validate's target: 180\n"
     ]
    }
   ],
   "source": [
    "#flattening to 1D arrays\n",
    "digits.images[103].flatten()\n",
    "#partitioning to training set, testing set, validation set\n",
    "from sklearn.model_selection import train_test_split\n",
    "X_train, X_other, y_train, y_other = train_test_split(digits.data, digits.images, test_size=0.2, shuffle=False)\n",
    "X_test, X_val, y_test, y_val = train_test_split(X_other, y_other, test_size=0.5, shuffle=False)\n",
    "print(\"Numbers to train: \" + str(len(X_train)))\n",
    "print(\"Number of train's target: \" + str(len(y_train)))\n",
    "print(\"Numbers to test: \" + str(len(X_test)))\n",
    "print(\"Number of test's target: \" + str(len(y_test)))\n",
    "print(\"Numbers to validate: \" + str(len(X_val)))\n",
    "print(\"Number of validate's target: \" + str(len(y_val)))"
   ]
  },
  {
   "cell_type": "code",
   "execution_count": 33,
   "metadata": {},
   "outputs": [],
   "source": [
    "def poissonEncoding(rates):\n",
    "    \"\"\"\n",
    "    Transforms a 2D array of inputs representing an image into spike train representation utilizing Poisson method of\n",
    "    encoding\n",
    "    \n",
    "    Params:\n",
    "        rates: 2D array of inputs (in this case, pixel intensitiies corresponding to our image)\n",
    "    Returns:\n",
    "        n_rates: Normalized set of input pixel values (represents probabilities of a spike occurring at each dT)\n",
    "        bin_spikes: 2D array of binary values representing timesteps in which spikes occur\n",
    "        p_spikes: 2D array representing pixel intensities of spike train representation for plotting/computation purposes\n",
    "        \n",
    "    \"\"\"\n",
    "    dT = 1\n",
    "    \n",
    "    max = np.amax(rates)\n",
    "    n_rates = (rates*dT)/max\n",
    "    \n",
    "    rand = np.random.uniform(0,1,(len(rates),len(rates[0])))\n",
    "    bin_spikes = np.zeros((len(rates),len(rates[0])))\n",
    "    pix_spikes = np.zeros((len(rates),len(rates[0])))\n",
    "    \n",
    "    n_rates, rand\n",
    "    for i in range(len(rates)):\n",
    "        for j in range(len(rates[i])):\n",
    "            if n_rates[i][j] > rand[i][j]:\n",
    "                bin_spikes[i][j] = 1\n",
    "                pix_spikes[i][j] = max\n",
    "                    \n",
    "    return n_rates, bin_spikes, pix_spikes\n",
    "    "
   ]
  },
  {
   "cell_type": "code",
   "execution_count": 32,
   "metadata": {},
   "outputs": [
    {
     "data": {
      "text/plain": [
       "array([[ 0.,  0.,  0., 12., 13.,  5.,  0.,  0.],\n",
       "       [ 0.,  0.,  0., 11., 16.,  9.,  0.,  0.],\n",
       "       [ 0.,  0.,  3., 15., 16.,  6.,  0.,  0.],\n",
       "       [ 0.,  7., 15., 16., 16.,  2.,  0.,  0.],\n",
       "       [ 0.,  0.,  1., 16., 16.,  3.,  0.,  0.],\n",
       "       [ 0.,  0.,  1., 16., 16.,  6.,  0.,  0.],\n",
       "       [ 0.,  0.,  1., 16., 16.,  6.,  0.,  0.],\n",
       "       [ 0.,  0.,  0., 11., 16., 10.,  0.,  0.]])"
      ]
     },
     "execution_count": 32,
     "metadata": {},
     "output_type": "execute_result"
    }
   ],
   "source": [
    "digits.images[1]"
   ]
  },
  {
   "cell_type": "code",
   "execution_count": 30,
   "metadata": {},
   "outputs": [
    {
     "data": {
      "image/png": "[encoded data removed]",
      "text/plain": [
       "<Figure size 288x288 with 1 Axes>"
      ]
     },
     "metadata": {},
     "output_type": "display_data"
    },
    {
     "data": {
      "image/png": "[encoded data removed]",
      "text/plain": [
       "<Figure size 288x288 with 1 Axes>"
      ]
     },
     "metadata": {},
     "output_type": "display_data"
    }
   ],
   "source": [
    "plt.matshow(digits.images[1]) \n",
    "n, b, p = poissonEncoding(digits.images[1])\n",
    "digits.images[1]\n",
    "plt.matshow(p)\n",
    "plt.show()"
   ]
  }
 ],
 "metadata": {
  "kernelspec": {
   "display_name": "Python 3",
   "language": "python",
   "name": "python3"
  },
  "language_info": {
   "codemirror_mode": {
    "name": "ipython",
    "version": 3
   },
   "file_extension": ".py",
   "mimetype": "text/x-python",
   "name": "python",
   "nbconvert_exporter": "python",
   "pygments_lexer": "ipython3",
   "version": "3.6.9"
  }
 },
 "nbformat": 4,
 "nbformat_minor": 2
}
